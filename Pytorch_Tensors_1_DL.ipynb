{
  "nbformat": 4,
  "nbformat_minor": 0,
  "metadata": {
    "colab": {
      "provenance": [],
      "gpuType": "T4"
    },
    "kernelspec": {
      "name": "python3",
      "display_name": "Python 3"
    },
    "language_info": {
      "name": "python"
    },
    "accelerator": "GPU"
  },
  "cells": [
    {
      "cell_type": "code",
      "execution_count": null,
      "metadata": {
        "colab": {
          "base_uri": "https://localhost:8080/"
        },
        "id": "lZVY_KyaoIHS",
        "outputId": "d23489dc-4a2b-4e7b-e9d4-cfd482b203f9"
      },
      "outputs": [
        {
          "output_type": "stream",
          "name": "stdout",
          "text": [
            "2.8.0+cu126\n"
          ]
        }
      ],
      "source": [
        "import torch\n",
        "print(torch.__version__)"
      ]
    },
    {
      "cell_type": "code",
      "source": [
        "if torch.cuda.is_available():\n",
        "  print(\"GPU is available\")\n",
        "  print(f\"Using GPU:{torch.cuda.get_device_name(0)}\")\n",
        "\n",
        "else:\n",
        "  print(\"GPU is not available\")"
      ],
      "metadata": {
        "colab": {
          "base_uri": "https://localhost:8080/"
        },
        "id": "N92O_25foUYN",
        "outputId": "9506089a-a023-4e58-8b39-8273840f9e62"
      },
      "execution_count": null,
      "outputs": [
        {
          "output_type": "stream",
          "name": "stdout",
          "text": [
            "GPU is not available\n"
          ]
        }
      ]
    },
    {
      "cell_type": "markdown",
      "source": [
        "**Creating tensors**"
      ],
      "metadata": {
        "id": "HTWLSuktoqWW"
      }
    },
    {
      "cell_type": "code",
      "source": [
        "a=torch.empty(2,3)\n",
        "a"
      ],
      "metadata": {
        "colab": {
          "base_uri": "https://localhost:8080/"
        },
        "id": "BYCgNyyjoohd",
        "outputId": "bf2f08a5-f518-49f1-e943-ef0e1744adf0"
      },
      "execution_count": null,
      "outputs": [
        {
          "output_type": "execute_result",
          "data": {
            "text/plain": [
              "tensor([[4.4653e+30, 1.6931e+22, 1.8494e+31],\n",
              "        [2.8231e+23, 1.1868e+27, 1.1626e+27]])"
            ]
          },
          "metadata": {},
          "execution_count": 3
        }
      ]
    },
    {
      "cell_type": "code",
      "source": [
        "type(a)"
      ],
      "metadata": {
        "colab": {
          "base_uri": "https://localhost:8080/"
        },
        "id": "vIaTSoqhpDoD",
        "outputId": "582d6b79-09f5-4eda-92d4-1a84e8e2dbfc"
      },
      "execution_count": null,
      "outputs": [
        {
          "output_type": "execute_result",
          "data": {
            "text/plain": [
              "torch.Tensor"
            ]
          },
          "metadata": {},
          "execution_count": 4
        }
      ]
    },
    {
      "cell_type": "code",
      "source": [
        "a=torch.zeros(2,3)\n",
        "a"
      ],
      "metadata": {
        "colab": {
          "base_uri": "https://localhost:8080/"
        },
        "id": "p_fLIaRQpRe9",
        "outputId": "c3f1d250-f589-49df-99b3-fc49f9f72d41"
      },
      "execution_count": null,
      "outputs": [
        {
          "output_type": "execute_result",
          "data": {
            "text/plain": [
              "tensor([[0., 0., 0.],\n",
              "        [0., 0., 0.]])"
            ]
          },
          "metadata": {},
          "execution_count": 5
        }
      ]
    },
    {
      "cell_type": "code",
      "source": [
        "a=torch.ones(2,3)\n",
        "a"
      ],
      "metadata": {
        "colab": {
          "base_uri": "https://localhost:8080/"
        },
        "id": "c27wMIa0pY4f",
        "outputId": "5c7e6759-feab-493f-b16d-e729e8b670ff"
      },
      "execution_count": null,
      "outputs": [
        {
          "output_type": "execute_result",
          "data": {
            "text/plain": [
              "tensor([[1., 1., 1.],\n",
              "        [1., 1., 1.]])"
            ]
          },
          "metadata": {},
          "execution_count": 6
        }
      ]
    },
    {
      "cell_type": "code",
      "source": [
        "a=torch.rand(2,3)\n",
        "a"
      ],
      "metadata": {
        "colab": {
          "base_uri": "https://localhost:8080/"
        },
        "id": "CXpotTZbpfAq",
        "outputId": "3fe08dca-291c-4db9-ccaa-1e0542938b97"
      },
      "execution_count": null,
      "outputs": [
        {
          "output_type": "execute_result",
          "data": {
            "text/plain": [
              "tensor([[0.2823, 0.7844, 0.7936],\n",
              "        [0.3252, 0.7804, 0.7473]])"
            ]
          },
          "metadata": {},
          "execution_count": 7
        }
      ]
    },
    {
      "cell_type": "code",
      "source": [
        "# when we re run the code of the torch.rand each time it winll give thenew vaulues to remove this ambiguity we use the manual_Seed function"
      ],
      "metadata": {
        "id": "jR82FSVapqde"
      },
      "execution_count": null,
      "outputs": []
    },
    {
      "cell_type": "code",
      "source": [
        "torch.manual_seed(100)\n",
        "a=torch.rand(2,3)\n",
        "a"
      ],
      "metadata": {
        "colab": {
          "base_uri": "https://localhost:8080/"
        },
        "id": "p2RRsc4Up53s",
        "outputId": "5195a833-1bf3-4be8-a78c-6bd63072294f"
      },
      "execution_count": null,
      "outputs": [
        {
          "output_type": "execute_result",
          "data": {
            "text/plain": [
              "tensor([[0.1117, 0.8158, 0.2626],\n",
              "        [0.4839, 0.6765, 0.7539]])"
            ]
          },
          "metadata": {},
          "execution_count": 12
        }
      ]
    },
    {
      "cell_type": "code",
      "source": [
        "# custom sensor\n",
        "a=torch.tensor([[1,2,3],[4,5,6]])\n",
        "a"
      ],
      "metadata": {
        "colab": {
          "base_uri": "https://localhost:8080/"
        },
        "id": "0GGKA6gStEIe",
        "outputId": "0422f13e-b800-4d30-f3da-f559563d4f27"
      },
      "execution_count": null,
      "outputs": [
        {
          "output_type": "execute_result",
          "data": {
            "text/plain": [
              "tensor([[1, 2, 3],\n",
              "        [4, 5, 6]])"
            ]
          },
          "metadata": {},
          "execution_count": 13
        }
      ]
    },
    {
      "cell_type": "code",
      "source": [
        "# some other methods for declaring the tensors\n",
        "print(\"Using arange :\",torch.arange(0,10,2))\n",
        "\n",
        "print(\"Using linspacce: \",torch.linspace(0,10,10))\n",
        "\n",
        "print(\"using eye:\",torch.eye(5,5))\n",
        "\n",
        "print(\"using full:\",  torch.full((3,3),5))"
      ],
      "metadata": {
        "colab": {
          "base_uri": "https://localhost:8080/"
        },
        "id": "zyNMuHydtZIC",
        "outputId": "c48bcaca-c310-4841-b7e8-4e3bb22fa580"
      },
      "execution_count": null,
      "outputs": [
        {
          "output_type": "stream",
          "name": "stdout",
          "text": [
            "Using arange : tensor([0, 2, 4, 6, 8])\n",
            "Using linspacce:  tensor([ 0.0000,  1.1111,  2.2222,  3.3333,  4.4444,  5.5556,  6.6667,  7.7778,\n",
            "         8.8889, 10.0000])\n",
            "using eye: tensor([[1., 0., 0., 0., 0.],\n",
            "        [0., 1., 0., 0., 0.],\n",
            "        [0., 0., 1., 0., 0.],\n",
            "        [0., 0., 0., 1., 0.],\n",
            "        [0., 0., 0., 0., 1.]])\n",
            "using full: tensor([[5, 5, 5],\n",
            "        [5, 5, 5],\n",
            "        [5, 5, 5]])\n"
          ]
        }
      ]
    },
    {
      "cell_type": "markdown",
      "source": [
        "**Shape of the tensors**"
      ],
      "metadata": {
        "id": "AC-2jBfjxzqW"
      }
    },
    {
      "cell_type": "code",
      "source": [
        "x=torch.tensor([[1,2,3],[4,5,6]])\n",
        "x"
      ],
      "metadata": {
        "colab": {
          "base_uri": "https://localhost:8080/"
        },
        "id": "RerHKy13xzIe",
        "outputId": "48af5645-43ce-4421-fa0f-13f7387f5e7b"
      },
      "execution_count": null,
      "outputs": [
        {
          "output_type": "execute_result",
          "data": {
            "text/plain": [
              "tensor([[1, 2, 3],\n",
              "        [4, 5, 6]])"
            ]
          },
          "metadata": {},
          "execution_count": 15
        }
      ]
    },
    {
      "cell_type": "code",
      "source": [
        "x.shape"
      ],
      "metadata": {
        "colab": {
          "base_uri": "https://localhost:8080/"
        },
        "id": "I1K99G7wx-lS",
        "outputId": "607f66eb-7f1a-40a0-c3e6-a0ad23b1e4da"
      },
      "execution_count": null,
      "outputs": [
        {
          "output_type": "execute_result",
          "data": {
            "text/plain": [
              "torch.Size([2, 3])"
            ]
          },
          "metadata": {},
          "execution_count": 16
        }
      ]
    },
    {
      "cell_type": "code",
      "source": [
        "# to copy thr shape pf the tensor\n",
        "torch.empty_like(x)\n"
      ],
      "metadata": {
        "colab": {
          "base_uri": "https://localhost:8080/"
        },
        "id": "sXLi5uYgyA0h",
        "outputId": "5bccadf7-c588-44bf-e950-0d4d7556b770"
      },
      "execution_count": null,
      "outputs": [
        {
          "output_type": "execute_result",
          "data": {
            "text/plain": [
              "tensor([[0, 0, 0],\n",
              "        [0, 0, 0]])"
            ]
          },
          "metadata": {},
          "execution_count": 17
        }
      ]
    },
    {
      "cell_type": "code",
      "source": [
        "torch.ones_like(x)\n",
        "torch.zeros_like(x)\n"
      ],
      "metadata": {
        "colab": {
          "base_uri": "https://localhost:8080/"
        },
        "id": "xV-tkw7oyL_W",
        "outputId": "2625a980-c49f-47e6-b93e-fb17b527b5a5"
      },
      "execution_count": null,
      "outputs": [
        {
          "output_type": "execute_result",
          "data": {
            "text/plain": [
              "tensor([[0, 0, 0],\n",
              "        [0, 0, 0]])"
            ]
          },
          "metadata": {},
          "execution_count": 18
        }
      ]
    },
    {
      "cell_type": "code",
      "source": [
        "torch.rand_like(x)"
      ],
      "metadata": {
        "id": "kcvZLIeYyQlG"
      },
      "execution_count": null,
      "outputs": []
    },
    {
      "cell_type": "markdown",
      "source": [
        "**twnsor datatypes**"
      ],
      "metadata": {
        "id": "ZxeE61nYy-xU"
      }
    },
    {
      "cell_type": "code",
      "source": [
        "x.dtype"
      ],
      "metadata": {
        "colab": {
          "base_uri": "https://localhost:8080/"
        },
        "id": "f76i1rwCzCkC",
        "outputId": "dcceeab8-eae7-4af1-d7d4-fe833efbed00"
      },
      "execution_count": null,
      "outputs": [
        {
          "output_type": "execute_result",
          "data": {
            "text/plain": [
              "torch.int64"
            ]
          },
          "metadata": {},
          "execution_count": 20
        }
      ]
    },
    {
      "cell_type": "code",
      "source": [
        "torch.tensor([1,2,3],dtype=torch.float32)\n"
      ],
      "metadata": {
        "colab": {
          "base_uri": "https://localhost:8080/"
        },
        "id": "L-NVYZDgzIPR",
        "outputId": "22cf2965-eda9-471e-a044-9e15265c01e7"
      },
      "execution_count": null,
      "outputs": [
        {
          "output_type": "execute_result",
          "data": {
            "text/plain": [
              "tensor([1., 2., 3.])"
            ]
          },
          "metadata": {},
          "execution_count": 21
        }
      ]
    },
    {
      "cell_type": "code",
      "source": [
        "# to change the datatype of the existing tensor\n",
        "x.to(torch.float32)"
      ],
      "metadata": {
        "colab": {
          "base_uri": "https://localhost:8080/"
        },
        "id": "ejyKbJevzPEP",
        "outputId": "ff15beb4-fb48-4923-d58e-9b7ba1c45646"
      },
      "execution_count": null,
      "outputs": [
        {
          "output_type": "execute_result",
          "data": {
            "text/plain": [
              "tensor([[1., 2., 3.],\n",
              "        [4., 5., 6.]])"
            ]
          },
          "metadata": {},
          "execution_count": 22
        }
      ]
    },
    {
      "cell_type": "code",
      "source": [
        "x=torch.rand(2,2)\n",
        "x"
      ],
      "metadata": {
        "colab": {
          "base_uri": "https://localhost:8080/"
        },
        "id": "7z43JrJ11WB6",
        "outputId": "06e89592-6ad0-46dc-dc18-b6320cc93029"
      },
      "execution_count": null,
      "outputs": [
        {
          "output_type": "execute_result",
          "data": {
            "text/plain": [
              "tensor([[0.2627, 0.0428],\n",
              "        [0.2080, 0.1180]])"
            ]
          },
          "metadata": {},
          "execution_count": 23
        }
      ]
    },
    {
      "cell_type": "code",
      "source": [
        "x+2\n",
        "#\n",
        "x-2\n",
        "#\n",
        "x**2\n",
        "#\n",
        "x*3\n",
        "#\n",
        "x/4\n",
        "#\n",
        "(x*100)//3\n",
        "#\n",
        "(x*100)%3"
      ],
      "metadata": {
        "colab": {
          "base_uri": "https://localhost:8080/"
        },
        "id": "uAW1NxH-1Z04",
        "outputId": "10264be7-9e0a-49f3-8c4e-8d6a31a9b968"
      },
      "execution_count": null,
      "outputs": [
        {
          "output_type": "execute_result",
          "data": {
            "text/plain": [
              "tensor([[2.2691, 1.2840],\n",
              "        [2.8029, 2.8037]])"
            ]
          },
          "metadata": {},
          "execution_count": 28
        }
      ]
    },
    {
      "cell_type": "code",
      "source": [
        "a=torch.rand(2,2)\n",
        "b=torch.rand(2,2)\n",
        "a+b"
      ],
      "metadata": {
        "colab": {
          "base_uri": "https://localhost:8080/"
        },
        "id": "rszVP_Qr19oT",
        "outputId": "597c0973-4434-4c05-d885-c369eed60ffc"
      },
      "execution_count": null,
      "outputs": [
        {
          "output_type": "execute_result",
          "data": {
            "text/plain": [
              "tensor([[1.2722, 0.7364],\n",
              "        [1.0334, 1.1238]])"
            ]
          },
          "metadata": {},
          "execution_count": 31
        }
      ]
    },
    {
      "cell_type": "code",
      "source": [
        "a-b\n",
        "a*b\n",
        "a/b\n",
        "a%b\n",
        "a**b"
      ],
      "metadata": {
        "colab": {
          "base_uri": "https://localhost:8080/"
        },
        "id": "f35moLdm2E6p",
        "outputId": "1214274e-5e73-4dbb-fb42-9b5be09e5b54"
      },
      "execution_count": null,
      "outputs": [
        {
          "output_type": "execute_result",
          "data": {
            "text/plain": [
              "tensor([[0.8558, 0.8380],\n",
              "        [0.3262, 0.8600]])"
            ]
          },
          "metadata": {},
          "execution_count": 34
        }
      ]
    },
    {
      "cell_type": "code",
      "source": [
        "c=torch.tensor([1,-2,-4,3])\n",
        "c.abs()"
      ],
      "metadata": {
        "colab": {
          "base_uri": "https://localhost:8080/"
        },
        "id": "-p90JTZf2V54",
        "outputId": "f6d234ca-3a6a-45a2-8c7b-a32a48d3293f"
      },
      "execution_count": null,
      "outputs": [
        {
          "output_type": "execute_result",
          "data": {
            "text/plain": [
              "tensor([1, 2, 4, 3])"
            ]
          },
          "metadata": {},
          "execution_count": 36
        }
      ]
    },
    {
      "cell_type": "code",
      "source": [
        "torch.clamp(c,min=-1,max=2)\n",
        "c"
      ],
      "metadata": {
        "colab": {
          "base_uri": "https://localhost:8080/"
        },
        "id": "z_-tjUDG3CXK",
        "outputId": "54cc0970-26c2-45bb-97b3-ab0b5ba4872d"
      },
      "execution_count": null,
      "outputs": [
        {
          "output_type": "execute_result",
          "data": {
            "text/plain": [
              "tensor([ 1, -2, -4,  3])"
            ]
          },
          "metadata": {},
          "execution_count": 40
        }
      ]
    },
    {
      "cell_type": "markdown",
      "source": [
        "**Reduction operations**"
      ],
      "metadata": {
        "id": "WdxQDxo74JFr"
      }
    },
    {
      "cell_type": "code",
      "source": [
        "e=torch.randint(size=(2,3),low=2,high=10,dtype=torch.float32)\n",
        "e"
      ],
      "metadata": {
        "colab": {
          "base_uri": "https://localhost:8080/"
        },
        "id": "uXoFj8pg3u5Z",
        "outputId": "3d0584b8-aca8-489a-e914-e21eccd60af6"
      },
      "execution_count": null,
      "outputs": [
        {
          "output_type": "execute_result",
          "data": {
            "text/plain": [
              "tensor([[3., 7., 7.],\n",
              "        [5., 6., 6.]])"
            ]
          },
          "metadata": {},
          "execution_count": 44
        }
      ]
    },
    {
      "cell_type": "code",
      "source": [
        "# to get the product\n",
        "torch.prod(e)"
      ],
      "metadata": {
        "colab": {
          "base_uri": "https://localhost:8080/"
        },
        "id": "nmvxJEZ_436Q",
        "outputId": "63425269-4d92-41d4-a8ac-edd5ee210911"
      },
      "execution_count": null,
      "outputs": [
        {
          "output_type": "execute_result",
          "data": {
            "text/plain": [
              "tensor(26460.)"
            ]
          },
          "metadata": {},
          "execution_count": 48
        }
      ]
    },
    {
      "cell_type": "code",
      "source": [
        "# sum of all elemments of the matrix\n",
        "torch.sum(e)\n",
        "\n",
        "# along rows\n",
        "torch.sum(e,dim=1)\n",
        "\n",
        "# along cols\n",
        "torch.sum(e,dim=0)"
      ],
      "metadata": {
        "colab": {
          "base_uri": "https://localhost:8080/"
        },
        "id": "4dqHd2Ex4PFw",
        "outputId": "b94ee3ad-4533-4567-8092-a073df81f55b"
      },
      "execution_count": null,
      "outputs": [
        {
          "output_type": "execute_result",
          "data": {
            "text/plain": [
              "tensor([ 8., 13., 13.])"
            ]
          },
          "metadata": {},
          "execution_count": 45
        }
      ]
    },
    {
      "cell_type": "code",
      "source": [
        "# mean\n",
        "torch.mean(e)\n",
        "\n",
        "# along cols\n",
        "torch.mean(e,dim=0)\n",
        "\n",
        "# along rows\n",
        "torch.mean(e,dim=1)"
      ],
      "metadata": {
        "colab": {
          "base_uri": "https://localhost:8080/"
        },
        "id": "cii9o5Qw4lHJ",
        "outputId": "16615f17-8e70-4fe9-b7c6-74f70e640f69"
      },
      "execution_count": null,
      "outputs": [
        {
          "output_type": "execute_result",
          "data": {
            "text/plain": [
              "tensor([5.6667, 5.6667])"
            ]
          },
          "metadata": {},
          "execution_count": 46
        }
      ]
    },
    {
      "cell_type": "code",
      "source": [
        "torch.median(e)\n",
        "torch.max(e)\n",
        "torch.min(e)"
      ],
      "metadata": {
        "colab": {
          "base_uri": "https://localhost:8080/"
        },
        "id": "B2CkhfcX4tap",
        "outputId": "6c1d64ff-2f46-44f4-e768-543668e1b0c2"
      },
      "execution_count": null,
      "outputs": [
        {
          "output_type": "execute_result",
          "data": {
            "text/plain": [
              "tensor(3.)"
            ]
          },
          "metadata": {},
          "execution_count": 47
        }
      ]
    },
    {
      "cell_type": "code",
      "source": [
        "# standard deviation\n",
        "torch.std(e)\n",
        "\n",
        "# variance\n",
        "torch.var(e)\n",
        "\n",
        "# returnr the index vlaue of the largets numbner\n",
        "torch.argmax(e)\n",
        "torch.argmin(e)"
      ],
      "metadata": {
        "colab": {
          "base_uri": "https://localhost:8080/"
        },
        "id": "9wUD4Oov5AZr",
        "outputId": "46433700-1253-4fcd-ca0a-3b07ce3ba781"
      },
      "execution_count": null,
      "outputs": [
        {
          "output_type": "execute_result",
          "data": {
            "text/plain": [
              "tensor(1)"
            ]
          },
          "metadata": {},
          "execution_count": 51
        }
      ]
    },
    {
      "cell_type": "markdown",
      "source": [
        "**Matrix multiplication**"
      ],
      "metadata": {
        "id": "a0AoWSzQ5-w0"
      }
    },
    {
      "cell_type": "code",
      "source": [
        "f=torch.randint(size=(2,3),low=2,high=10,dtype=torch.float32)\n",
        "g=torch.randint(size=(3,2),low=2,high=10,dtype=torch.float32)\n"
      ],
      "metadata": {
        "id": "vqg-aDzJ5-WS"
      },
      "execution_count": null,
      "outputs": []
    },
    {
      "cell_type": "code",
      "source": [
        "# matric multip;ication\n",
        "torch.matmul(f,g)"
      ],
      "metadata": {
        "colab": {
          "base_uri": "https://localhost:8080/"
        },
        "id": "Sc_ww_pm6YgZ",
        "outputId": "1c5b2b8a-91d3-4649-fd94-2332c5d5f5b1"
      },
      "execution_count": null,
      "outputs": [
        {
          "output_type": "execute_result",
          "data": {
            "text/plain": [
              "tensor([[ 42.,  62.],\n",
              "        [ 78., 107.]])"
            ]
          },
          "metadata": {},
          "execution_count": 55
        }
      ]
    },
    {
      "cell_type": "markdown",
      "source": [
        "dot product\n"
      ],
      "metadata": {
        "id": "vCDOchH76lOA"
      }
    },
    {
      "cell_type": "code",
      "source": [
        "vec1=torch.tensor([1,2,3])\n",
        "vec2=torch.tensor([4,5,6])\n",
        "\n",
        "torch.dot(vec1,vec2)\n",
        "\n",
        "# tranpose\n",
        "torch.transpose(f,0,1)\n",
        "\n",
        "# determinnat\n",
        "h=torch.randint(size=(3,3),low=2, high=5,dtype=torch.float32)\n",
        "torch.det(h)\n",
        "# inverse\n",
        "torch.inverse(h)"
      ],
      "metadata": {
        "colab": {
          "base_uri": "https://localhost:8080/"
        },
        "id": "aemzqi_26kmJ",
        "outputId": "80e4fa1b-9d59-4aba-fab9-9c288e89babb"
      },
      "execution_count": null,
      "outputs": [
        {
          "output_type": "execute_result",
          "data": {
            "text/plain": [
              "tensor([[-0.2500,  0.5000, -0.2500],\n",
              "        [-0.5000,  0.0000,  0.5000],\n",
              "        [ 1.2500, -0.5000, -0.2500]])"
            ]
          },
          "metadata": {},
          "execution_count": 60
        }
      ]
    },
    {
      "cell_type": "markdown",
      "source": [
        "comparison operations\n"
      ],
      "metadata": {
        "id": "ubz--mXa8Gqr"
      }
    },
    {
      "cell_type": "code",
      "source": [
        "i = torch.randint(size=(2,3), low=0, high=10)\n",
        "j = torch.randint(size=(2,3), low=0, high=10)\n",
        "\n",
        "print(i)\n",
        "print(j)"
      ],
      "metadata": {
        "colab": {
          "base_uri": "https://localhost:8080/"
        },
        "id": "6Cyg32Lw8GaO",
        "outputId": "e4b66a1c-456d-4926-a0d0-9598d507b4e2"
      },
      "execution_count": null,
      "outputs": [
        {
          "output_type": "stream",
          "name": "stdout",
          "text": [
            "tensor([[0, 8, 4],\n",
            "        [7, 2, 3]])\n",
            "tensor([[8, 5, 6],\n",
            "        [2, 9, 5]])\n"
          ]
        }
      ]
    },
    {
      "cell_type": "code",
      "source": [
        "# greater than\n",
        "i > j\n",
        "# less than\n",
        "i < j\n",
        "# equal to\n",
        "i == j\n",
        "# not equal to\n",
        "i != j\n",
        "# greater than equal to\n",
        "\n",
        "# less than equal to"
      ],
      "metadata": {
        "colab": {
          "base_uri": "https://localhost:8080/"
        },
        "id": "EveDczw48MbM",
        "outputId": "4fbb81d1-5e4a-4dca-b609-a02d9055ddee"
      },
      "execution_count": null,
      "outputs": [
        {
          "output_type": "execute_result",
          "data": {
            "text/plain": [
              "tensor([[True, True, True],\n",
              "        [True, True, True]])"
            ]
          },
          "metadata": {},
          "execution_count": 62
        }
      ]
    },
    {
      "cell_type": "markdown",
      "source": [
        "special functions"
      ],
      "metadata": {
        "id": "lvGPu-vk8cjm"
      }
    },
    {
      "cell_type": "code",
      "source": [
        "k = torch.randint(size=(2,3), low=0, high=10, dtype=torch.float32)\n",
        "k"
      ],
      "metadata": {
        "colab": {
          "base_uri": "https://localhost:8080/"
        },
        "id": "szRGAk6p8cMs",
        "outputId": "a1b4fc18-92d1-490b-d9a0-9036d3b8b63a"
      },
      "execution_count": null,
      "outputs": [
        {
          "output_type": "execute_result",
          "data": {
            "text/plain": [
              "tensor([[0., 4., 2.],\n",
              "        [7., 1., 1.]])"
            ]
          },
          "metadata": {},
          "execution_count": 63
        }
      ]
    },
    {
      "cell_type": "code",
      "source": [
        "# log\n",
        "torch.log(k)\n",
        "\n",
        "# exp\n",
        "torch.exp(k)\n",
        "\n",
        "\n",
        "# sqrt\n",
        "torch.sqrt(k)\n",
        "\n",
        "# sigmoid\n",
        "torch.sigmoid(k)\n",
        "\n",
        "\n",
        "# softmax\n",
        "torch.softmax(k, dim=0)\n",
        "\n",
        "\n",
        "# relu\n",
        "torch.relu(k)"
      ],
      "metadata": {
        "id": "jjeiyfa28hLd"
      },
      "execution_count": null,
      "outputs": []
    },
    {
      "cell_type": "markdown",
      "source": [
        "inplace operations"
      ],
      "metadata": {
        "id": "3S8Nal4t9g16"
      }
    },
    {
      "cell_type": "code",
      "source": [
        "m = torch.rand(2,3)\n",
        "n = torch.rand(2,3)\n",
        "\n",
        "print(m)\n",
        "print(n)"
      ],
      "metadata": {
        "colab": {
          "base_uri": "https://localhost:8080/"
        },
        "id": "EnXvpVrF9iqU",
        "outputId": "5a8b1ffc-3968-41c1-9f9d-a1b3ccf3e6b1"
      },
      "execution_count": null,
      "outputs": [
        {
          "output_type": "stream",
          "name": "stdout",
          "text": [
            "tensor([[0.2243, 0.8935, 0.0497],\n",
            "        [0.1780, 0.3011, 0.1893]])\n",
            "tensor([[0.9186, 0.2131, 0.3957],\n",
            "        [0.6017, 0.4234, 0.5224]])\n"
          ]
        }
      ]
    },
    {
      "cell_type": "code",
      "source": [
        "m.add_(n)"
      ],
      "metadata": {
        "colab": {
          "base_uri": "https://localhost:8080/"
        },
        "id": "-hCd9kX29jlK",
        "outputId": "152b408d-9fc0-46cc-ea0f-56cde3403161"
      },
      "execution_count": null,
      "outputs": [
        {
          "output_type": "execute_result",
          "data": {
            "text/plain": [
              "tensor([[1.1429, 1.1066, 0.4454],\n",
              "        [0.7796, 0.7245, 0.7117]])"
            ]
          },
          "metadata": {},
          "execution_count": 65
        }
      ]
    },
    {
      "cell_type": "code",
      "source": [
        "m.relu()"
      ],
      "metadata": {
        "colab": {
          "base_uri": "https://localhost:8080/"
        },
        "id": "Bth6HK7h9npF",
        "outputId": "df9f5c84-1a84-46e5-fa5c-fe00464abe07"
      },
      "execution_count": null,
      "outputs": [
        {
          "output_type": "execute_result",
          "data": {
            "text/plain": [
              "tensor([[1.1429, 1.1066, 0.4454],\n",
              "        [0.7796, 0.7245, 0.7117]])"
            ]
          },
          "metadata": {},
          "execution_count": 66
        }
      ]
    },
    {
      "cell_type": "markdown",
      "source": [
        "copying a tensor\n"
      ],
      "metadata": {
        "id": "6xTAROTt-Yrk"
      }
    },
    {
      "cell_type": "code",
      "source": [
        "a = torch.rand(2,3)\n",
        "a"
      ],
      "metadata": {
        "id": "ZMnQ7RkK-aVj"
      },
      "execution_count": null,
      "outputs": []
    },
    {
      "cell_type": "code",
      "source": [
        "b=a\n",
        "b"
      ],
      "metadata": {
        "id": "im9vHN4v-cy3"
      },
      "execution_count": null,
      "outputs": []
    },
    {
      "cell_type": "code",
      "source": [
        "a[0][0]=0\n",
        "a"
      ],
      "metadata": {
        "id": "f7Rpws6j-feu"
      },
      "execution_count": null,
      "outputs": []
    },
    {
      "cell_type": "code",
      "source": [
        "id(a)\n",
        "id(b)"
      ],
      "metadata": {
        "id": "K5F93AI8-ijQ"
      },
      "execution_count": null,
      "outputs": []
    },
    {
      "cell_type": "code",
      "source": [
        "b=a.clone()"
      ],
      "metadata": {
        "id": "peZTw_y1-kvL"
      },
      "execution_count": null,
      "outputs": []
    },
    {
      "cell_type": "code",
      "source": [
        "# ternsors operations on gpu\n"
      ],
      "metadata": {
        "id": "zDsGMr7EjU06"
      },
      "execution_count": null,
      "outputs": []
    },
    {
      "cell_type": "code",
      "source": [
        "import torch\n",
        "torch.cuda.is_available()"
      ],
      "metadata": {
        "colab": {
          "base_uri": "https://localhost:8080/"
        },
        "id": "oIQdXv8Sjb9o",
        "outputId": "12752ba5-1352-4d16-bd6c-6f5650c35e19"
      },
      "execution_count": 1,
      "outputs": [
        {
          "output_type": "execute_result",
          "data": {
            "text/plain": [
              "True"
            ]
          },
          "metadata": {},
          "execution_count": 1
        }
      ]
    },
    {
      "cell_type": "code",
      "source": [
        "device=torch.device(\"cuda\")\n",
        "device"
      ],
      "metadata": {
        "colab": {
          "base_uri": "https://localhost:8080/"
        },
        "id": "54tL3bYMjj9X",
        "outputId": "90282d88-3d18-4c44-86f9-c07b1f9bcdaf"
      },
      "execution_count": 3,
      "outputs": [
        {
          "output_type": "execute_result",
          "data": {
            "text/plain": [
              "device(type='cuda')"
            ]
          },
          "metadata": {},
          "execution_count": 3
        }
      ]
    },
    {
      "cell_type": "code",
      "source": [
        "a=torch.rand((2,3),device=device)\n",
        "a"
      ],
      "metadata": {
        "colab": {
          "base_uri": "https://localhost:8080/"
        },
        "id": "8W2QjrpujvbM",
        "outputId": "7373034e-15f0-4908-c1a6-63ba504f9798"
      },
      "execution_count": 4,
      "outputs": [
        {
          "output_type": "execute_result",
          "data": {
            "text/plain": [
              "tensor([[0.4460, 0.2364, 0.2058],\n",
              "        [0.4473, 0.2278, 0.5558]], device='cuda:0')"
            ]
          },
          "metadata": {},
          "execution_count": 4
        }
      ]
    },
    {
      "cell_type": "code",
      "source": [
        "b=torch.rand(2,4)\n",
        "b"
      ],
      "metadata": {
        "colab": {
          "base_uri": "https://localhost:8080/"
        },
        "id": "3NyarMUBj5Mq",
        "outputId": "3a3d857c-d28a-491b-84d6-26cd7706405a"
      },
      "execution_count": 5,
      "outputs": [
        {
          "output_type": "execute_result",
          "data": {
            "text/plain": [
              "tensor([[0.8540, 0.8851, 0.6335, 0.8567],\n",
              "        [0.4743, 0.7721, 0.8559, 0.0630]])"
            ]
          },
          "metadata": {},
          "execution_count": 5
        }
      ]
    },
    {
      "cell_type": "code",
      "source": [
        "c=a.to(device)\n",
        "c"
      ],
      "metadata": {
        "colab": {
          "base_uri": "https://localhost:8080/"
        },
        "id": "p2qESdgYkCCT",
        "outputId": "5fcf9300-29c4-41e9-b497-6df140e3c336"
      },
      "execution_count": 6,
      "outputs": [
        {
          "output_type": "execute_result",
          "data": {
            "text/plain": [
              "tensor([[0.4460, 0.2364, 0.2058],\n",
              "        [0.4473, 0.2278, 0.5558]], device='cuda:0')"
            ]
          },
          "metadata": {},
          "execution_count": 6
        }
      ]
    },
    {
      "cell_type": "code",
      "source": [
        "c+2"
      ],
      "metadata": {
        "colab": {
          "base_uri": "https://localhost:8080/"
        },
        "id": "hZz2KZM7kIOr",
        "outputId": "7cad7016-dd8b-41dc-cd7e-15dde6dd0796"
      },
      "execution_count": 7,
      "outputs": [
        {
          "output_type": "execute_result",
          "data": {
            "text/plain": [
              "tensor([[2.4460, 2.2364, 2.2058],\n",
              "        [2.4473, 2.2278, 2.5558]], device='cuda:0')"
            ]
          },
          "metadata": {},
          "execution_count": 7
        }
      ]
    },
    {
      "cell_type": "code",
      "source": [
        "import time\n",
        "size=10000\n",
        "\n",
        "matrix_cpu1=torch.randn(size,size)\n",
        "matrix_cpu2=torch.randn(size,size)\n",
        "\n",
        "start_time=time.time()\n",
        "result_cpu=torch.matmul(matrix_cpu1,matrix_cpu2)\n",
        "cpu_time=time.time()-start_time\n",
        "\n",
        "\n",
        "matrix_gpu1=matrix_cpu1.to('cuda')\n",
        "matrix_gpu2=matrix_cpu2.to('cuda')\n",
        "\n",
        "\n",
        "startr_time=time.time()\n",
        "result_gpu=torch.matmul(matrix_gpu1,matrix_gpu2)\n",
        "torch.cuda.synchronize()\n",
        "gpu_time=time.time()-start_time\n",
        "\n",
        "print(f\"CPU time: {cpu_time}\")\n",
        "print(f\"GPU time: {gpu_time}\")"
      ],
      "metadata": {
        "colab": {
          "base_uri": "https://localhost:8080/"
        },
        "id": "1AunUqzXkOWb",
        "outputId": "7da5ee9f-37ec-431d-ad2a-362d7c408c68"
      },
      "execution_count": 8,
      "outputs": [
        {
          "output_type": "stream",
          "name": "stdout",
          "text": [
            "CPU time: 17.668381452560425\n",
            "GPU time: 18.57832980155945\n"
          ]
        }
      ]
    },
    {
      "cell_type": "markdown",
      "source": [
        "reshaping tensors"
      ],
      "metadata": {
        "id": "ZkmxuAHqlgoI"
      }
    },
    {
      "cell_type": "code",
      "source": [
        "a=torch.ones(4,4)\n",
        "a"
      ],
      "metadata": {
        "colab": {
          "base_uri": "https://localhost:8080/"
        },
        "id": "8a1MFJhpliE1",
        "outputId": "6cdaad65-31ea-418b-b91b-1af1c76aa9a1"
      },
      "execution_count": 9,
      "outputs": [
        {
          "output_type": "execute_result",
          "data": {
            "text/plain": [
              "tensor([[1., 1., 1., 1.],\n",
              "        [1., 1., 1., 1.],\n",
              "        [1., 1., 1., 1.],\n",
              "        [1., 1., 1., 1.]])"
            ]
          },
          "metadata": {},
          "execution_count": 9
        }
      ]
    },
    {
      "cell_type": "code",
      "source": [
        "a.reshape(2,2,2,2)"
      ],
      "metadata": {
        "colab": {
          "base_uri": "https://localhost:8080/"
        },
        "id": "SRhcDwmzlla5",
        "outputId": "0da9ef8a-04ef-46ac-ea54-c74fc67d3046"
      },
      "execution_count": 10,
      "outputs": [
        {
          "output_type": "execute_result",
          "data": {
            "text/plain": [
              "tensor([[[[1., 1.],\n",
              "          [1., 1.]],\n",
              "\n",
              "         [[1., 1.],\n",
              "          [1., 1.]]],\n",
              "\n",
              "\n",
              "        [[[1., 1.],\n",
              "          [1., 1.]],\n",
              "\n",
              "         [[1., 1.],\n",
              "          [1., 1.]]]])"
            ]
          },
          "metadata": {},
          "execution_count": 10
        }
      ]
    },
    {
      "cell_type": "code",
      "source": [
        "a.flatten()"
      ],
      "metadata": {
        "colab": {
          "base_uri": "https://localhost:8080/"
        },
        "id": "5pYedBM0lqQN",
        "outputId": "2577bdc9-5512-4203-c921-e633116aae7b"
      },
      "execution_count": 11,
      "outputs": [
        {
          "output_type": "execute_result",
          "data": {
            "text/plain": [
              "tensor([1., 1., 1., 1., 1., 1., 1., 1., 1., 1., 1., 1., 1., 1., 1., 1.])"
            ]
          },
          "metadata": {},
          "execution_count": 11
        }
      ]
    },
    {
      "cell_type": "code",
      "source": [
        "b=torch.rand(2,3,4)\n",
        "b"
      ],
      "metadata": {
        "colab": {
          "base_uri": "https://localhost:8080/"
        },
        "id": "jffDduAdl0E5",
        "outputId": "a87798ee-bcee-416d-84fc-1aa592c1290d"
      },
      "execution_count": 12,
      "outputs": [
        {
          "output_type": "execute_result",
          "data": {
            "text/plain": [
              "tensor([[[0.5477, 0.0151, 0.2109, 0.5271],\n",
              "         [0.8685, 0.2443, 0.7415, 0.2213],\n",
              "         [0.4599, 0.8423, 0.2090, 0.1488]],\n",
              "\n",
              "        [[0.4650, 0.0521, 0.4944, 0.9106],\n",
              "         [0.0798, 0.2672, 0.9350, 0.4572],\n",
              "         [0.8885, 0.9104, 0.5088, 0.6802]]])"
            ]
          },
          "metadata": {},
          "execution_count": 12
        }
      ]
    },
    {
      "cell_type": "code",
      "source": [
        "# permute\n",
        "b.permute(2,1,0).shape"
      ],
      "metadata": {
        "colab": {
          "base_uri": "https://localhost:8080/"
        },
        "id": "dmbihoD4l5ZB",
        "outputId": "7837751a-eb56-4e2c-f85f-a205e30eb386"
      },
      "execution_count": 13,
      "outputs": [
        {
          "output_type": "execute_result",
          "data": {
            "text/plain": [
              "torch.Size([4, 3, 2])"
            ]
          },
          "metadata": {},
          "execution_count": 13
        }
      ]
    },
    {
      "cell_type": "code",
      "source": [
        "# unsqueeeze\n",
        "c=torch.rand(226,226,3)\n",
        "c.unsqueeze(0).shape"
      ],
      "metadata": {
        "colab": {
          "base_uri": "https://localhost:8080/"
        },
        "id": "rDiiXF2amK77",
        "outputId": "313a43c8-19d6-4d50-a42d-348b1e9e1a2b"
      },
      "execution_count": 14,
      "outputs": [
        {
          "output_type": "execute_result",
          "data": {
            "text/plain": [
              "torch.Size([1, 226, 226, 3])"
            ]
          },
          "metadata": {},
          "execution_count": 14
        }
      ]
    },
    {
      "cell_type": "code",
      "source": [
        "# squeeeze\n",
        "d=torch.rand(1,226,226,3)\n",
        "d.squeeze(0).shape"
      ],
      "metadata": {
        "colab": {
          "base_uri": "https://localhost:8080/"
        },
        "id": "Jks2Cn1FmWCR",
        "outputId": "401f82c6-60e2-45a3-9b6d-4a13cfa1f115"
      },
      "execution_count": 15,
      "outputs": [
        {
          "output_type": "execute_result",
          "data": {
            "text/plain": [
              "torch.Size([226, 226, 3])"
            ]
          },
          "metadata": {},
          "execution_count": 15
        }
      ]
    },
    {
      "cell_type": "markdown",
      "source": [
        "numpy to tensors"
      ],
      "metadata": {
        "id": "66Kx9LU6nINn"
      }
    },
    {
      "cell_type": "code",
      "source": [
        "import numpy as np\n",
        "a=torch.tensor([1,2,3])\n",
        "a"
      ],
      "metadata": {
        "colab": {
          "base_uri": "https://localhost:8080/"
        },
        "id": "Qbgqe0SnnMFJ",
        "outputId": "56d32497-84e4-4801-a2cc-6753fc4e84ba"
      },
      "execution_count": 16,
      "outputs": [
        {
          "output_type": "execute_result",
          "data": {
            "text/plain": [
              "tensor([1, 2, 3])"
            ]
          },
          "metadata": {},
          "execution_count": 16
        }
      ]
    },
    {
      "cell_type": "code",
      "source": [
        "b=a.numpy()\n",
        "type(b)"
      ],
      "metadata": {
        "colab": {
          "base_uri": "https://localhost:8080/"
        },
        "id": "W6-KODBxnSSe",
        "outputId": "177d2741-631b-4dbc-e979-649336271c43"
      },
      "execution_count": 17,
      "outputs": [
        {
          "output_type": "execute_result",
          "data": {
            "text/plain": [
              "numpy.ndarray"
            ]
          },
          "metadata": {},
          "execution_count": 17
        }
      ]
    },
    {
      "cell_type": "code",
      "source": [
        "c=np.array([1,2,3,4])\n",
        "torch.from_numpy(c)"
      ],
      "metadata": {
        "colab": {
          "base_uri": "https://localhost:8080/"
        },
        "id": "fzixK8qSnWrP",
        "outputId": "a04ac911-2b34-4bcf-faea-716da8c3a6cf"
      },
      "execution_count": 19,
      "outputs": [
        {
          "output_type": "execute_result",
          "data": {
            "text/plain": [
              "tensor([1, 2, 3, 4])"
            ]
          },
          "metadata": {},
          "execution_count": 19
        }
      ]
    }
  ]
}