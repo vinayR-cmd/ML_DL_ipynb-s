{
  "nbformat": 4,
  "nbformat_minor": 0,
  "metadata": {
    "colab": {
      "provenance": []
    },
    "kernelspec": {
      "name": "python3",
      "display_name": "Python 3"
    },
    "language_info": {
      "name": "python"
    }
  },
  "cells": [
    {
      "cell_type": "code",
      "execution_count": 1,
      "metadata": {
        "id": "D1q8AhBCsudx"
      },
      "outputs": [],
      "source": [
        "import torch\n",
        "import torch.nn as nn"
      ]
    },
    {
      "cell_type": "code",
      "source": [
        "class Model(nn.Module):\n",
        "  def __init__(self,num_features):\n",
        "\n",
        "    super().__init__()\n",
        "    self.linear=nn.Linear(num_features,1)\n",
        "    self.sigmoid=nn.Sigmoid()\n",
        "\n",
        "\n",
        "  def forward(self, features):\n",
        "    out =self.linear(features)\n",
        "    out=self.sigmoid(out)\n",
        "    return out\n"
      ],
      "metadata": {
        "id": "3UePEmNMuv8W"
      },
      "execution_count": null,
      "outputs": []
    },
    {
      "cell_type": "code",
      "source": [
        "features=torch.rand(10,5)\n",
        "model=Model(features.shape[1])\n",
        "print(model(features))"
      ],
      "metadata": {
        "colab": {
          "base_uri": "https://localhost:8080/"
        },
        "id": "iI7Siwcpz32v",
        "outputId": "1e7db7d7-44ea-4739-b007-8c175108466f"
      },
      "execution_count": null,
      "outputs": [
        {
          "output_type": "stream",
          "name": "stdout",
          "text": [
            "tensor([[0.5753],\n",
            "        [0.5417],\n",
            "        [0.5702],\n",
            "        [0.5399],\n",
            "        [0.5488],\n",
            "        [0.5789],\n",
            "        [0.6050],\n",
            "        [0.5932],\n",
            "        [0.5543],\n",
            "        [0.5711]], grad_fn=<SigmoidBackward0>)\n"
          ]
        }
      ]
    },
    {
      "cell_type": "code",
      "source": [
        "model.linear.weight\n",
        "model.linear.bias"
      ],
      "metadata": {
        "colab": {
          "base_uri": "https://localhost:8080/"
        },
        "id": "cBS6S9T50IRt",
        "outputId": "69f4868e-2281-4aed-97b5-2a8d29cc72f1"
      },
      "execution_count": null,
      "outputs": [
        {
          "output_type": "execute_result",
          "data": {
            "text/plain": [
              "Parameter containing:\n",
              "tensor([0.3047], requires_grad=True)"
            ]
          },
          "metadata": {},
          "execution_count": 9
        }
      ]
    },
    {
      "cell_type": "code",
      "source": [
        "!pip install torchinfo"
      ],
      "metadata": {
        "colab": {
          "base_uri": "https://localhost:8080/"
        },
        "id": "PWMGUU2a1C6f",
        "outputId": "dac723ee-f423-4f56-f3cc-effda14e93e2"
      },
      "execution_count": null,
      "outputs": [
        {
          "output_type": "stream",
          "name": "stdout",
          "text": [
            "Collecting torchinfo\n",
            "  Downloading torchinfo-1.8.0-py3-none-any.whl.metadata (21 kB)\n",
            "Downloading torchinfo-1.8.0-py3-none-any.whl (23 kB)\n",
            "Installing collected packages: torchinfo\n",
            "Successfully installed torchinfo-1.8.0\n"
          ]
        }
      ]
    },
    {
      "cell_type": "code",
      "source": [
        "from torchinfo import summary\n",
        "summary(model,input_size=(10,5))"
      ],
      "metadata": {
        "colab": {
          "base_uri": "https://localhost:8080/"
        },
        "id": "qCmjqwmc1FzI",
        "outputId": "6f933f23-2602-4bd1-abf9-ed25364b1580"
      },
      "execution_count": null,
      "outputs": [
        {
          "output_type": "execute_result",
          "data": {
            "text/plain": [
              "==========================================================================================\n",
              "Layer (type:depth-idx)                   Output Shape              Param #\n",
              "==========================================================================================\n",
              "Model                                    [10, 1]                   --\n",
              "├─Linear: 1-1                            [10, 1]                   6\n",
              "├─Sigmoid: 1-2                           [10, 1]                   --\n",
              "==========================================================================================\n",
              "Total params: 6\n",
              "Trainable params: 6\n",
              "Non-trainable params: 0\n",
              "Total mult-adds (Units.MEGABYTES): 0.00\n",
              "==========================================================================================\n",
              "Input size (MB): 0.00\n",
              "Forward/backward pass size (MB): 0.00\n",
              "Params size (MB): 0.00\n",
              "Estimated Total Size (MB): 0.00\n",
              "=========================================================================================="
            ]
          },
          "metadata": {},
          "execution_count": 11
        }
      ]
    },
    {
      "cell_type": "code",
      "source": [
        "#.\n",
        "#.  .\n",
        "#.  .   .-->y_pred\n",
        "#.  .\n",
        "#."
      ],
      "metadata": {
        "id": "uyYa0Xe61Unp"
      },
      "execution_count": null,
      "outputs": []
    },
    {
      "cell_type": "code",
      "source": [
        "class Model(nn.Module):\n",
        "  def __init__(self,num_features):\n",
        "\n",
        "    super().__init__()\n",
        "    self.linear1=nn.Linear(num_features,3)\n",
        "    # self.sigmoid=nn.Sigmoid()\n",
        "    self.relu=nn.ReLU()\n",
        "    self.linear2=nn.Linear(3,1)\n",
        "    self.sigmoid=nn.Sigmoid()\n",
        "\n",
        "\n",
        "  def forward(self, features):\n",
        "    out =self.linear(features)\n",
        "    out=self.relu\n",
        "    return out\n"
      ],
      "metadata": {
        "id": "gPISPTsP1gqJ"
      },
      "execution_count": null,
      "outputs": []
    },
    {
      "cell_type": "code",
      "source": [
        "features=torch.rand(10,5)\n",
        "model=Model(features.shape[1])\n",
        "print(model(features))"
      ],
      "metadata": {
        "colab": {
          "base_uri": "https://localhost:8080/"
        },
        "id": "_lXEhmB12XT4",
        "outputId": "a1dfecf8-f60b-4163-9418-025afff86c33"
      },
      "execution_count": null,
      "outputs": [
        {
          "output_type": "stream",
          "name": "stdout",
          "text": [
            "tensor([[0.4392],\n",
            "        [0.4523],\n",
            "        [0.4467],\n",
            "        [0.4339],\n",
            "        [0.4474],\n",
            "        [0.4530],\n",
            "        [0.4436],\n",
            "        [0.4464],\n",
            "        [0.4498],\n",
            "        [0.4406]], grad_fn=<SigmoidBackward0>)\n"
          ]
        }
      ]
    },
    {
      "cell_type": "code",
      "source": [
        "model.linear1.weight\n",
        "model.linear2.weight"
      ],
      "metadata": {
        "colab": {
          "base_uri": "https://localhost:8080/"
        },
        "id": "1rkq_d5c2eQw",
        "outputId": "a64a6fd7-0d95-4111-cad9-044d0f537125"
      },
      "execution_count": null,
      "outputs": [
        {
          "output_type": "execute_result",
          "data": {
            "text/plain": [
              "Parameter containing:\n",
              "tensor([[ 0.2494,  0.1694, -0.5256]], requires_grad=True)"
            ]
          },
          "metadata": {},
          "execution_count": 17
        }
      ]
    },
    {
      "cell_type": "code",
      "source": [
        "from torchinfo import summary\n",
        "summary(model,input_size=(10,5))"
      ],
      "metadata": {
        "colab": {
          "base_uri": "https://localhost:8080/"
        },
        "id": "MAURQghm2oPM",
        "outputId": "7776ccef-6c67-447b-9122-107f878e86ea"
      },
      "execution_count": null,
      "outputs": [
        {
          "output_type": "execute_result",
          "data": {
            "text/plain": [
              "==========================================================================================\n",
              "Layer (type:depth-idx)                   Output Shape              Param #\n",
              "==========================================================================================\n",
              "Model                                    [10, 1]                   --\n",
              "├─Linear: 1-1                            [10, 3]                   18\n",
              "├─ReLU: 1-2                              [10, 3]                   --\n",
              "├─Linear: 1-3                            [10, 1]                   4\n",
              "├─Sigmoid: 1-4                           [10, 1]                   --\n",
              "==========================================================================================\n",
              "Total params: 22\n",
              "Trainable params: 22\n",
              "Non-trainable params: 0\n",
              "Total mult-adds (Units.MEGABYTES): 0.00\n",
              "==========================================================================================\n",
              "Input size (MB): 0.00\n",
              "Forward/backward pass size (MB): 0.00\n",
              "Params size (MB): 0.00\n",
              "Estimated Total Size (MB): 0.00\n",
              "=========================================================================================="
            ]
          },
          "metadata": {},
          "execution_count": 19
        }
      ]
    },
    {
      "cell_type": "markdown",
      "source": [
        "imporoving the forward method  with the sequential container"
      ],
      "metadata": {
        "id": "8B67cvg34M6R"
      }
    },
    {
      "cell_type": "code",
      "source": [
        "class Model(nn.Module):\n",
        "  def __init__(self,num_features):\n",
        "\n",
        "    super().__init__()\n",
        "    self.network=nn.Sequential(\n",
        "        nn.Linear(num_features,3),\n",
        "        nn.ReLU(),\n",
        "        nn.Linear(3,1),\n",
        "        nn.Sigmoid()\n",
        "    )\n",
        "\n",
        "\n",
        "  def forward(self, features):\n",
        "    out =self.network(features)\n",
        "    return out\n"
      ],
      "metadata": {
        "id": "8wV0hzxv4MWl"
      },
      "execution_count": null,
      "outputs": []
    },
    {
      "cell_type": "code",
      "source": [],
      "metadata": {
        "id": "djpx59bF42Te"
      },
      "execution_count": null,
      "outputs": []
    }
  ]
}